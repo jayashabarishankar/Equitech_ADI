{
 "cells": [
  {
   "cell_type": "code",
   "execution_count": 5,
   "id": "b867ef19",
   "metadata": {},
   "outputs": [],
   "source": [
    "import numpy as np\n",
    "from collections import defaultdict\n",
    "\n",
    "class MarkovChainModel:\n",
    "\n",
    "    def __init__(self, input, order): \n",
    "        '''\n",
    "        order= order of the Markov chain\n",
    "        input=text that you would like to generate the chain based off of\n",
    "        '''\n",
    "        self.order = order            \n",
    "        self.tran = defaultdict(float) \n",
    "        #defaultdict(method)\n",
    "        self.first = list(set(list(input)))\n",
    "        self.kgrams = defaultdict(int)\n",
    "        n = len(input)\n",
    "        input += input[:order]\n",
    "        for i in range(n):\n",
    "            self.tran[input[i:i+order],input[i+order]] += 1.\n",
    "            self.kgrams[input[i:i+order]] += 1\n",
    "\n",
    "    def order(self):                   \n",
    "        return self.order\n",
    "\n",
    "    def freq(self, kgram):             \n",
    "        assert len(kgram) == self.order    \n",
    "        return self.kgrams[kgram]\n",
    "\n",
    "    def freq2(self, kgram, c):   \n",
    "        assert len(kgram) == self.order    \n",
    "        return self.tran[kgram,c]  \n",
    "\n",
    "    def rand(self, kgram):             \n",
    "        assert len(kgram) == self.order\n",
    "        Z = sum([self.tran[kgram, first] for first in self.first])\n",
    "        return np.random.choice(self.first, 1, p=np.array([self.tran[kgram, alph] for alph in self.first])/Z)\n",
    "\n",
    "    def output(self, kgram, T):           \n",
    "        assert len(kgram) == self.order  \n",
    "        str = ''                      \n",
    "        for _ in range(T):             \n",
    "             c =  self.rand(kgram)[0]  \n",
    "             kgram = kgram[1:] + c     \n",
    "             str += c\n",
    "        return str"
   ]
  },
  {
   "cell_type": "code",
   "execution_count": 6,
   "id": "596deb32",
   "metadata": {},
   "outputs": [
    {
     "data": {
      "text/plain": [
       "'gagagaggggagagaggaggaggcgagagagagaggagagaagagggcgagagagagagggagaaaagggcgaagaaaaagaaagagaaaaaaagaaaaaggcgagaaaaaggagggggcgagagaggaggaggggaggcgaggcgagagagaggcgaggagaaaaaaaggagagggaggcgagaaggggcgaggcgaggagagaaggcgagggcgaggagaggagagaggcgagggggcgaagggcgaggagaggcgaaagagaggcgaaaaaagagagagagggcgagaggcgagagagaggagaggcgaggggagagaagaggggcgagaaagagggaaggaaggggcgaagaaagagaagagagagagaggaggcgaggagagaggcgagaaaaggcgaggagagaaggagagagggaggggagagaggcgaggagggaggcgagagaaaagagagaaagaggagaaagagaaagaggaaggcgaaagaagaaaag'"
      ]
     },
     "execution_count": 6,
     "metadata": {},
     "output_type": "execute_result"
    }
   ],
   "source": [
    "m = MarkovChainModel('gagggagaggcgagaaa', 2)\n",
    "MarkovChainModel.output(m,kgram='ga', T=500)"
   ]
  },
  {
   "cell_type": "code",
   "execution_count": null,
   "id": "badbd940",
   "metadata": {},
   "outputs": [],
   "source": []
  },
  {
   "cell_type": "code",
   "execution_count": null,
   "id": "46a0e5d3",
   "metadata": {},
   "outputs": [],
   "source": []
  }
 ],
 "metadata": {
  "kernelspec": {
   "display_name": "Python 3 (ipykernel)",
   "language": "python",
   "name": "python3"
  },
  "language_info": {
   "codemirror_mode": {
    "name": "ipython",
    "version": 3
   },
   "file_extension": ".py",
   "mimetype": "text/x-python",
   "name": "python",
   "nbconvert_exporter": "python",
   "pygments_lexer": "ipython3",
   "version": "3.9.12"
  }
 },
 "nbformat": 4,
 "nbformat_minor": 5
}
