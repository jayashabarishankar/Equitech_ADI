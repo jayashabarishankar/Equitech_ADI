{
 "cells": [
  {
   "cell_type": "code",
   "execution_count": 3,
   "id": "b867ef19",
   "metadata": {},
   "outputs": [],
   "source": [
    "import numpy as np\n",
    "from collections import defaultdict\n",
    "\n",
    "class MarkovChainModel:\n",
    "\n",
    "    def __init__(self, input, order): \n",
    "        '''\n",
    "        order= order of the Markov chain\n",
    "        input=text that you would like to generate the chain based off of\n",
    "        '''\n",
    "        self.order = order            \n",
    "        self.tran = defaultdict(float) \n",
    "        #defaultdict(method)\n",
    "        self.first = list(set(list(input)))\n",
    "        self.kgrams = defaultdict(int)\n",
    "        n = len(input)\n",
    "        input += input[:order]\n",
    "        for i in range(n):\n",
    "            self.tran[input[i:i+order],input[i+order]] += 1.\n",
    "            self.kgrams[input[i:i+order]] += 1\n",
    "\n",
    "    def order(self):                   \n",
    "        return self.order\n",
    "\n",
    "    def freq(self, kgram):             \n",
    "        assert len(kgram) == self.order    \n",
    "        return self.kgrams[kgram]\n",
    "\n",
    "    def freq2(self, kgram, c):   \n",
    "        assert len(kgram) == self.order    \n",
    "        return self.tran[kgram,c]  \n",
    "\n",
    "    def rand(self, kgram):             \n",
    "        assert len(kgram) == self.order\n",
    "        Z = sum([self.tran[kgram, first] for first in self.first])\n",
    "        return np.random.choice(self.first, 1, p=np.array([self.tran[kgram, alph] for alph in self.first])/Z)\n",
    "\n",
    "    def output(self, kgram, T):           \n",
    "        assert len(kgram) == self.order  \n",
    "        str = ''                      \n",
    "        for _ in range(T):             \n",
    "             c =  self.rand(kgram)[0]  \n",
    "             kgram = kgram[1:] + c     \n",
    "             str += c\n",
    "        return str"
   ]
  },
  {
   "cell_type": "code",
   "execution_count": 4,
   "id": "596deb32",
   "metadata": {},
   "outputs": [
    {
     "ename": "NameError",
     "evalue": "name 'first' is not defined",
     "output_type": "error",
     "traceback": [
      "\u001b[1;31m---------------------------------------------------------------------------\u001b[0m",
      "\u001b[1;31mNameError\u001b[0m                                 Traceback (most recent call last)",
      "Input \u001b[1;32mIn [4]\u001b[0m, in \u001b[0;36m<cell line: 2>\u001b[1;34m()\u001b[0m\n\u001b[0;32m      1\u001b[0m m \u001b[38;5;241m=\u001b[39m MarkovChainModel(\u001b[38;5;124m'\u001b[39m\u001b[38;5;124mgagggagaggcgagaaa\u001b[39m\u001b[38;5;124m'\u001b[39m, \u001b[38;5;241m2\u001b[39m)\n\u001b[1;32m----> 2\u001b[0m \u001b[43mMarkovChainModel\u001b[49m\u001b[38;5;241;43m.\u001b[39;49m\u001b[43moutput\u001b[49m\u001b[43m(\u001b[49m\u001b[43mm\u001b[49m\u001b[43m,\u001b[49m\u001b[43mkgram\u001b[49m\u001b[38;5;241;43m=\u001b[39;49m\u001b[38;5;124;43m'\u001b[39;49m\u001b[38;5;124;43mga\u001b[39;49m\u001b[38;5;124;43m'\u001b[39;49m\u001b[43m,\u001b[49m\u001b[43m \u001b[49m\u001b[43mT\u001b[49m\u001b[38;5;241;43m=\u001b[39;49m\u001b[38;5;241;43m500\u001b[39;49m\u001b[43m)\u001b[49m\n",
      "Input \u001b[1;32mIn [3]\u001b[0m, in \u001b[0;36mMarkovChainModel.output\u001b[1;34m(self, kgram, T)\u001b[0m\n\u001b[0;32m     40\u001b[0m \u001b[38;5;28mstr\u001b[39m \u001b[38;5;241m=\u001b[39m \u001b[38;5;124m'\u001b[39m\u001b[38;5;124m'\u001b[39m                      \n\u001b[0;32m     41\u001b[0m \u001b[38;5;28;01mfor\u001b[39;00m _ \u001b[38;5;129;01min\u001b[39;00m \u001b[38;5;28mrange\u001b[39m(T):             \n\u001b[1;32m---> 42\u001b[0m      c \u001b[38;5;241m=\u001b[39m  \u001b[38;5;28;43mself\u001b[39;49m\u001b[38;5;241;43m.\u001b[39;49m\u001b[43mrand\u001b[49m\u001b[43m(\u001b[49m\u001b[43mkgram\u001b[49m\u001b[43m)\u001b[49m[\u001b[38;5;241m0\u001b[39m]  \n\u001b[0;32m     43\u001b[0m      kgram \u001b[38;5;241m=\u001b[39m kgram[\u001b[38;5;241m1\u001b[39m:] \u001b[38;5;241m+\u001b[39m c     \n\u001b[0;32m     44\u001b[0m      \u001b[38;5;28mstr\u001b[39m \u001b[38;5;241m+\u001b[39m\u001b[38;5;241m=\u001b[39m c\n",
      "Input \u001b[1;32mIn [3]\u001b[0m, in \u001b[0;36mMarkovChainModel.rand\u001b[1;34m(self, kgram)\u001b[0m\n\u001b[0;32m     34\u001b[0m \u001b[38;5;28;01massert\u001b[39;00m \u001b[38;5;28mlen\u001b[39m(kgram) \u001b[38;5;241m==\u001b[39m \u001b[38;5;28mself\u001b[39m\u001b[38;5;241m.\u001b[39morder\n\u001b[0;32m     35\u001b[0m Z \u001b[38;5;241m=\u001b[39m \u001b[38;5;28msum\u001b[39m([\u001b[38;5;28mself\u001b[39m\u001b[38;5;241m.\u001b[39mtran[kgram, first] \u001b[38;5;28;01mfor\u001b[39;00m first \u001b[38;5;129;01min\u001b[39;00m \u001b[38;5;28mself\u001b[39m\u001b[38;5;241m.\u001b[39mfirst])\n\u001b[1;32m---> 36\u001b[0m \u001b[38;5;28;01mreturn\u001b[39;00m np\u001b[38;5;241m.\u001b[39mrandom\u001b[38;5;241m.\u001b[39mchoice(\u001b[38;5;28mself\u001b[39m\u001b[38;5;241m.\u001b[39mfirst, \u001b[38;5;241m1\u001b[39m, p\u001b[38;5;241m=\u001b[39mnp\u001b[38;5;241m.\u001b[39marray([\u001b[38;5;28mself\u001b[39m\u001b[38;5;241m.\u001b[39mtran[kgram, first] \u001b[38;5;28;01mfor\u001b[39;00m alph \u001b[38;5;129;01min\u001b[39;00m \u001b[38;5;28mself\u001b[39m\u001b[38;5;241m.\u001b[39mfirst])\u001b[38;5;241m/\u001b[39mZ)\n",
      "Input \u001b[1;32mIn [3]\u001b[0m, in \u001b[0;36m<listcomp>\u001b[1;34m(.0)\u001b[0m\n\u001b[0;32m     34\u001b[0m \u001b[38;5;28;01massert\u001b[39;00m \u001b[38;5;28mlen\u001b[39m(kgram) \u001b[38;5;241m==\u001b[39m \u001b[38;5;28mself\u001b[39m\u001b[38;5;241m.\u001b[39morder\n\u001b[0;32m     35\u001b[0m Z \u001b[38;5;241m=\u001b[39m \u001b[38;5;28msum\u001b[39m([\u001b[38;5;28mself\u001b[39m\u001b[38;5;241m.\u001b[39mtran[kgram, first] \u001b[38;5;28;01mfor\u001b[39;00m first \u001b[38;5;129;01min\u001b[39;00m \u001b[38;5;28mself\u001b[39m\u001b[38;5;241m.\u001b[39mfirst])\n\u001b[1;32m---> 36\u001b[0m \u001b[38;5;28;01mreturn\u001b[39;00m np\u001b[38;5;241m.\u001b[39mrandom\u001b[38;5;241m.\u001b[39mchoice(\u001b[38;5;28mself\u001b[39m\u001b[38;5;241m.\u001b[39mfirst, \u001b[38;5;241m1\u001b[39m, p\u001b[38;5;241m=\u001b[39mnp\u001b[38;5;241m.\u001b[39marray([\u001b[38;5;28mself\u001b[39m\u001b[38;5;241m.\u001b[39mtran[kgram, \u001b[43mfirst\u001b[49m] \u001b[38;5;28;01mfor\u001b[39;00m alph \u001b[38;5;129;01min\u001b[39;00m \u001b[38;5;28mself\u001b[39m\u001b[38;5;241m.\u001b[39mfirst])\u001b[38;5;241m/\u001b[39mZ)\n",
      "\u001b[1;31mNameError\u001b[0m: name 'first' is not defined"
     ]
    }
   ],
   "source": [
    "m = MarkovChainModel('gagggagaggcgagaaa', 2)\n",
    "MarkovChainModel.output(m,kgram='ga', T=500)"
   ]
  },
  {
   "cell_type": "code",
   "execution_count": null,
   "id": "badbd940",
   "metadata": {},
   "outputs": [],
   "source": []
  },
  {
   "cell_type": "code",
   "execution_count": null,
   "id": "46a0e5d3",
   "metadata": {},
   "outputs": [],
   "source": []
  }
 ],
 "metadata": {
  "kernelspec": {
   "display_name": "Python 3 (ipykernel)",
   "language": "python",
   "name": "python3"
  },
  "language_info": {
   "codemirror_mode": {
    "name": "ipython",
    "version": 3
   },
   "file_extension": ".py",
   "mimetype": "text/x-python",
   "name": "python",
   "nbconvert_exporter": "python",
   "pygments_lexer": "ipython3",
   "version": "3.9.12"
  }
 },
 "nbformat": 4,
 "nbformat_minor": 5
}
